{
 "cells": [
  {
   "cell_type": "code",
   "execution_count": 1,
   "id": "46e952c2",
   "metadata": {},
   "outputs": [
    {
     "name": "stdout",
     "output_type": "stream",
     "text": [
      "[1 2 3]\n"
     ]
    }
   ],
   "source": [
    "#Day 13\n",
    "\n",
    "import numpy as np\n",
    "v1 = np.array([1, 2, 3])\n",
    "print(v1)\n",
    "\n",
    "\n"
   ]
  },
  {
   "cell_type": "code",
   "execution_count": null,
   "id": "c7e84765",
   "metadata": {},
   "outputs": [],
   "source": [
    "# Mathatical foundations In AI \n",
    "\n",
    "# Linear Algebra - It is the study of vectors, matrices, and linear transformations.\n",
    "#                  It provides the mathematical framework for representing and manipulating data in high-dimensional spaces.\n",
    "\n",
    "# Probability - It is the study of uncertainty and randomness.\n",
    "#               It helps in modeling and understanding the likelihood of events and outcomes.\n",
    "\n",
    "# Statitics - It is the science of collecting, analyzing, interpreting, presenting, and organizing data.\n",
    "#             It provides tools for making inferences and drawing conclusions from data.\n",
    "\n",
    "# Hypothesis Testing - It is a statistical method used to test assumptions or claims about a population based on sample data.\n",
    "#                      It helps in determining whether there is enough evidence to support or reject a hypothesis."
   ]
  },
  {
   "cell_type": "code",
   "execution_count": null,
   "id": "c62cf65f",
   "metadata": {},
   "outputs": [],
   "source": [
    "#methods in numpy\n",
    "\n",
    "#np.zeros(shape) - Creates an array filled with zeros.\n",
    "#np.ones(shape) - Creates an array filled with ones.\n",
    "#np.linspace (start, stop, num) - Creates an array of evenly spaced numbers over a specified interval.\n",
    "#np.eye(n) - Creates an identity matrix of size n x n.\n",
    "#np.arrange(start, stop, step) - Creates an array with a range of values."
   ]
  },
  {
   "cell_type": "code",
   "execution_count": 401,
   "id": "3a94a93f",
   "metadata": {},
   "outputs": [
    {
     "name": "stdout",
     "output_type": "stream",
     "text": [
      "5\n",
      "1\n",
      "2\n",
      "[[0. 0. 0.]\n",
      " [0. 0. 0.]\n",
      " [0. 0. 0.]]\n",
      "[[1. 1.]\n",
      " [1. 1.]]\n"
     ]
    }
   ],
   "source": [
    "import numpy as np\n",
    "\n",
    "scalar = 5\n",
    "print(scalar)  # Scalar - a single number\n",
    "\n",
    "vector = np.array([1, 2, 3]) #np.array - it is a function in numpy that creates an array\n",
    "print(vector.ndim)  # Vector - a one-dimensional array\n",
    "\n",
    "matrix = np.array([[1, 2], [3, 4]])  # Creating a 2x2 matrix \n",
    "print(matrix.ndim) #ndim - it is property fo get the dimention\n",
    "\n",
    "print(np.zeros((3, 3)))  # Creating a 3x3 matrix filled with zeros\n",
    "\n",
    "print(np.ones((2, 2)))  # Creating a 2x2 matrix filled with ones"
   ]
  },
  {
   "cell_type": "code",
   "execution_count": 400,
   "id": "640ad3bb",
   "metadata": {},
   "outputs": [
    {
     "name": "stdout",
     "output_type": "stream",
     "text": [
      "[ 0.   2.5  5.   7.5 10. ]\n"
     ]
    }
   ],
   "source": [
    "n = np.linspace(0, 10, 5)  # Creating an array of 5 evenly spaced numbers between 0 and 10\n",
    "print(n)"
   ]
  },
  {
   "cell_type": "code",
   "execution_count": 6,
   "id": "a3fd7f57",
   "metadata": {},
   "outputs": [
    {
     "name": "stdout",
     "output_type": "stream",
     "text": [
      "[[1. 0. 0.]\n",
      " [0. 1. 0.]\n",
      " [0. 0. 1.]]\n"
     ]
    }
   ],
   "source": [
    "n = np.eye(3)  # Creating a 3x3 identity matrix\n",
    "print(n)"
   ]
  },
  {
   "cell_type": "code",
   "execution_count": null,
   "id": "c18be33b",
   "metadata": {},
   "outputs": [
    {
     "name": "stdout",
     "output_type": "stream",
     "text": [
      "[5 7 9]\n",
      "[-3 -3 -3]\n",
      "[ 4 10 18]\n",
      "[0.25 0.4  0.5 ]\n",
      "32\n",
      "[-3  6 -3]\n"
     ]
    }
   ],
   "source": [
    "v1 = np.array([1, 2, 3])\n",
    "v2 = np.array([4, 5, 6])\n",
    "print(v1 + v2)  # Element-wise addition of two vectors\n",
    "\n",
    "print(v1 - v2)  # Element-wise subtraction of two vectors\n",
    "\n",
    "print(v1 * v2)  # Element-wise multiplication of two vectors\n",
    "\n",
    "print(v1 / v2)  # Element-wise division of two vectors\n",
    "\n",
    "print(np.dot(v1, v2))  # Dot product of two vectors \n",
    "1\n",
    "print(np.cross(v1, v2))  # Cross product of two vectors"
   ]
  },
  {
   "cell_type": "code",
   "execution_count": 14,
   "id": "321ef61d",
   "metadata": {},
   "outputs": [
    {
     "name": "stdout",
     "output_type": "stream",
     "text": [
      "[[1]\n",
      " [2]\n",
      " [3]]\n"
     ]
    }
   ],
   "source": [
    "v1 = np.array([[1, 2, 3]])\n",
    "print(v1.T) # Transpose of a vector (converts row vector to column vector)"
   ]
  },
  {
   "cell_type": "code",
   "execution_count": 3,
   "id": "244e8858",
   "metadata": {},
   "outputs": [
    {
     "name": "stdout",
     "output_type": "stream",
     "text": [
      "[[ 6  1  1]\n",
      " [ 4 -2  5]\n",
      " [ 2  8  7]]\n",
      "[[ 0.17647059 -0.00326797 -0.02287582]\n",
      " [ 0.05882353 -0.13071895  0.08496732]\n",
      " [-0.11764706  0.1503268   0.05228758]]\n"
     ]
    }
   ],
   "source": [
    "# Inverse Of a Matrix\n",
    "import numpy as np\n",
    "matrix = np.array([[6, 1, 1], [4, -2, 5], [2, 8, 7]])\n",
    "print(matrix)\n",
    "print(np.linalg.inv(matrix))  # Inverse of a matrix using numpy's linear algebra module"
   ]
  },
  {
   "cell_type": "code",
   "execution_count": 8,
   "id": "4d6f1b63",
   "metadata": {},
   "outputs": [
    {
     "name": "stdout",
     "output_type": "stream",
     "text": [
      "-306.0\n",
      "----------------------------------------------------------------------------------------------------------------------------------------\n",
      "-306.0\n",
      "----------------------------------------------------------------------------------------------------------------------------------------\n",
      "[[ 0.17647059 -0.00326797 -0.02287582]\n",
      " [ 0.05882353 -0.13071895  0.08496732]\n",
      " [-0.11764706  0.1503268   0.05228758]]\n"
     ]
    }
   ],
   "source": [
    "# Determinant of a Matrix\n",
    "import numpy as np\n",
    "matrix = np.array([[6, 1, 1], [4, -2, 5], [2, 8, 7]])\n",
    "print(np.linalg.det(matrix))  # Determinant of a matrix using numpy's linear algebra module\n",
    "\n",
    "print(\"----------------------------------------------------------------------------------------------------------------------------------------\")\n",
    "\n",
    "from numpy.linalg import det, inv\n",
    "matrix = np.array([[6, 1, 1], [4, -2, 5], [2, 8, 7]])\n",
    "print(det(matrix))  # Determinant of a matrix using numpy's linear algebra module\n",
    "\n",
    "print(\"----------------------------------------------------------------------------------------------------------------------------------------\")\n",
    "\n",
    "print(inv(matrix))  # Inverse of a matrix using numpy's linear algebra module "
   ]
  },
  {
   "cell_type": "code",
   "execution_count": 11,
   "id": "1f8322e1",
   "metadata": {},
   "outputs": [
    {
     "name": "stdout",
     "output_type": "stream",
     "text": [
      "Eigenvalues: [5. 2.]\n",
      "Eigenvectors: [[ 0.89442719 -0.70710678]\n",
      " [ 0.4472136   0.70710678]]\n"
     ]
    }
   ],
   "source": [
    "#eigenvalues and eigenvectors\n",
    "from numpy.linalg import eig\n",
    "matrix = np.array([[4, 2], [1, 3]])\n",
    "\n",
    "eigenvalues, eigenvectors = eig(matrix)  # Calculate eigenvalues and eigenvectors  \n",
    "print(\"Eigenvalues:\", eigenvalues)  # Print eigenvalues\n",
    "print(\"Eigenvectors:\", eigenvectors)  # Print eigenvectors\n",
    "\n",
    "# Eigenvalues - They are scalars that indicate how much a transformation stretches or compresses a vector.\n",
    "# Eigenvectors - They are vectors that remain in the same direction after a transformation, only scaled by the corresponding eigenvalue."
   ]
  },
  {
   "cell_type": "code",
   "execution_count": 12,
   "id": "8f4b5334",
   "metadata": {},
   "outputs": [],
   "source": [
    "# Principal Component Analysis (PCA)\n",
    "# Dimentionality reduction technique that transforms data into a lower-dimensional space while preserving variance.\n",
    "# It identifies the directions (principal components) that maximize variance in the data.\n",
    "# It is commonly used for feature extraction and visualization in high-dimensional datasets."
   ]
  },
  {
   "cell_type": "code",
   "execution_count": null,
   "id": "233df905",
   "metadata": {},
   "outputs": [
    {
     "name": "stdout",
     "output_type": "stream",
     "text": [
      "Random Matrix:\n",
      " [[0.3598266  0.3072394  0.27907368 0.5107523  0.70669868 0.06119596\n",
      "  0.354954   0.84358396 0.38705488 0.20424842 0.87058019 0.65817996\n",
      "  0.56250785 0.35280381 0.13510226 0.84148901 0.72589243 0.3331495\n",
      "  0.3052861  0.65262547 0.2531336  0.45434696 0.81623091 0.65920679\n",
      "  0.30805148 0.51685369 0.27292107 0.24040789 0.15952569 0.70162586]\n",
      " [0.60092732 0.05591609 0.55760543 0.73156201 0.82111325 0.28708443\n",
      "  0.2192942  0.01197954 0.74930724 0.71159556 0.47393023 0.22089155\n",
      "  0.71802116 0.5279328  0.21850439 0.53628116 0.62055521 0.75160661\n",
      "  0.04397838 0.38876974 0.10695219 0.60713929 0.9861333  0.31211781\n",
      "  0.14376126 0.99548562 0.11505604 0.40990109 0.81485176 0.456966  ]]\n"
     ]
    }
   ],
   "source": [
    "a = np.random.rand(2, 30)  # np.random.rand generates a random matrix with values between 0 and 1\n",
    "print(\"Random Matrix:\\n\", a)  # Print the random matrix"
   ]
  },
  {
   "cell_type": "code",
   "execution_count": 403,
   "id": "fdea2dd2",
   "metadata": {},
   "outputs": [
    {
     "data": {
      "image/png": "[encoded data removed]",
      "text/plain": [
       "<Figure size 640x480 with 1 Axes>"
      ]
     },
     "metadata": {},
     "output_type": "display_data"
    }
   ],
   "source": [
    "# matplotlib\n",
    "import matplotlib.pyplot as plt # matplotlib.pyplot - it is a module in matplotlib for plotting graphs\n",
    "# import seaborn as sns # seaborn - it is a library for statistical data visualization in Python\n",
    "# import plotly \n",
    "\n",
    "a=plt.quiver(1,0,0,2,color=\"red\") #color=\"red\" - it is used to set the color of the vector field\n",
    "b=plt.quiver(2,3,2,3,color=\"green\") # plt.quiver - it is a function to plot a vector field\n",
    "plt.xlim(-5,1) # plt.xlim - it is a function to set the x-axis limits of the plot\n",
    "plt.ylim(-5,1) # plt.ylim - it is a function to set the y-axis limits of the plot\n",
    "plt.show() # plt.show - it is a function to display the plot"
   ]
  },
  {
   "cell_type": "code",
   "execution_count": null,
   "id": "8924308c",
   "metadata": {},
   "outputs": [
    {
     "name": "stdout",
     "output_type": "stream",
     "text": [
      "1\n"
     ]
    }
   ],
   "source": [
    "# Rank - How rows or columns are independent ,\n",
    "#  if it is dependet to any another column,\n",
    "#  we dont consider the independent one\n",
    "import numpy as np\n",
    "v1=np.array([[1,2],[2,4],[4,8]]) # when we multiplle 1st column with 2, we get the second column, so they are dependent\n",
    "# 2nd and 3rd column are dependent on 1st column so the first column is independent\n",
    "print(np.linalg.matrix_rank(v1)) # np.linalg.matrix_rank - it is a function to get the rank of a matrix"
   ]
  },
  {
   "cell_type": "code",
   "execution_count": null,
   "id": "aea4e601",
   "metadata": {},
   "outputs": [],
   "source": [
    "\n",
    "# visualization libraries in Python\n",
    "\n",
    "# packages\n",
    "\n",
    "# matplotlib - it is a library for plotting graphs in Python\n",
    "# seaborn - it is a library for statistical data visualization in Python\n",
    "# plotly - it is a library for interactive data visualization in Python"
   ]
  },
  {
   "cell_type": "code",
   "execution_count": null,
   "id": "ad1aa403",
   "metadata": {},
   "outputs": [],
   "source": [
    "pip install seaborn\n"
   ]
  },
  {
   "cell_type": "code",
   "execution_count": null,
   "id": "6cfb269e",
   "metadata": {},
   "outputs": [],
   "source": [
    "pip install plotly"
   ]
  }
 ],
 "metadata": {
  "kernelspec": {
   "display_name": "Python 3",
   "language": "python",
   "name": "python3"
  },
  "language_info": {
   "codemirror_mode": {
    "name": "ipython",
    "version": 3
   },
   "file_extension": ".py",
   "mimetype": "text/x-python",
   "name": "python",
   "nbconvert_exporter": "python",
   "pygments_lexer": "ipython3",
   "version": "3.13.5"
  }
 },
 "nbformat": 4,
 "nbformat_minor": 5
}

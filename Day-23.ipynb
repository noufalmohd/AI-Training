{
 "cells": [
  {
   "cell_type": "code",
   "execution_count": null,
   "id": "1e9fd336",
   "metadata": {},
   "outputs": [],
   "source": [
    "#Day 23#"
   ]
  },
  {
   "cell_type": "code",
   "execution_count": 2,
   "id": "c5f78ba1",
   "metadata": {},
   "outputs": [
    {
     "ename": "TypeError",
     "evalue": "Node() takes no arguments",
     "output_type": "error",
     "traceback": [
      "\u001b[31m---------------------------------------------------------------------------\u001b[39m",
      "\u001b[31mTypeError\u001b[39m                                 Traceback (most recent call last)",
      "\u001b[36mCell\u001b[39m\u001b[36m \u001b[39m\u001b[32mIn[2]\u001b[39m\u001b[32m, line 17\u001b[39m\n\u001b[32m      5\u001b[39m         \u001b[38;5;28mself\u001b[39m.right = \u001b[38;5;28;01mNone\u001b[39;00m\n\u001b[32m      6\u001b[39m \u001b[38;5;66;03m#insertion\u001b[39;00m\n\u001b[32m      7\u001b[39m \u001b[38;5;66;03m# def insert(root,val):\u001b[39;00m\n\u001b[32m      8\u001b[39m \u001b[38;5;66;03m#     if root is None:\u001b[39;00m\n\u001b[32m   (...)\u001b[39m\u001b[32m     13\u001b[39m \u001b[38;5;66;03m#         root.right = insert(root.right,val)\u001b[39;00m\n\u001b[32m     14\u001b[39m \u001b[38;5;66;03m#     return root\u001b[39;00m\n\u001b[32m---> \u001b[39m\u001b[32m17\u001b[39m root = \u001b[43mNode\u001b[49m\u001b[43m(\u001b[49m\u001b[32;43m1\u001b[39;49m\u001b[43m)\u001b[49m\n\u001b[32m     18\u001b[39m root.left = Node(\u001b[32m2\u001b[39m)\n\u001b[32m     19\u001b[39m root.right = Node(\u001b[32m3\u001b[39m)\n",
      "\u001b[31mTypeError\u001b[39m: Node() takes no arguments"
     ]
    }
   ],
   "source": [
    "class Node():\n",
    "    def _init_(self,val):\n",
    "        self.val = val\n",
    "        self.left = None\n",
    "        self.right = None\n",
    "#insertion\n",
    "# def insert(root,val):\n",
    "#     if root is None:\n",
    "#         return Node(val)\n",
    "#     if val < root.val:\n",
    "#         root.left = insert(root.left,val)\n",
    "#     else:\n",
    "#         root.right = insert(root.right,val)\n",
    "#     return root\n",
    "\n",
    "\n",
    "root = Node(1)\n",
    "root.left = Node(2)\n",
    "root.right = Node(3)\n",
    "root.left.left = Node(4)\n",
    "root.left.right = Node(5)\n",
    "root.right.right = Node(6)\n",
    "\n",
    "from collections import deque\n",
    "\n",
    "def bfs(root):\n",
    "    q = deque()\n",
    "    q.append(root)\n",
    "    \n",
    "    if not q:\n",
    "        return\n",
    "    \n",
    "    while q:\n",
    "        q.popleft(root)\n",
    "\n",
    "        if node.left:\n",
    "            q.append(root)\n",
    "\n",
    "        if node.right:\n",
    "            q.append(root)\n",
    "\n",
    "bfs(root)"
   ]
  },
  {
   "cell_type": "code",
   "execution_count": 3,
   "id": "957cbd9f",
   "metadata": {},
   "outputs": [
    {
     "ename": "TypeError",
     "evalue": "print() got an unexpected keyword argument 'ends'. Did you mean 'end'?",
     "output_type": "error",
     "traceback": [
      "\u001b[31m---------------------------------------------------------------------------\u001b[39m",
      "\u001b[31mTypeError\u001b[39m                                 Traceback (most recent call last)",
      "\u001b[36mCell\u001b[39m\u001b[36m \u001b[39m\u001b[32mIn[3]\u001b[39m\u001b[32m, line 22\u001b[39m\n\u001b[32m     19\u001b[39m root.left.right=Node(\u001b[32m5\u001b[39m)\n\u001b[32m     20\u001b[39m root.right.right=Node(\u001b[32m6\u001b[39m)\n\u001b[32m---> \u001b[39m\u001b[32m22\u001b[39m \u001b[43mdfs_preorder\u001b[49m\u001b[43m(\u001b[49m\u001b[43mroot\u001b[49m\u001b[43m)\u001b[49m\n",
      "\u001b[36mCell\u001b[39m\u001b[36m \u001b[39m\u001b[32mIn[3]\u001b[39m\u001b[32m, line 9\u001b[39m, in \u001b[36mdfs_preorder\u001b[39m\u001b[34m(node)\u001b[39m\n\u001b[32m      7\u001b[39m \u001b[38;5;28;01mif\u001b[39;00m \u001b[38;5;129;01mnot\u001b[39;00m node:\n\u001b[32m      8\u001b[39m     \u001b[38;5;28;01mreturn\u001b[39;00m\n\u001b[32m----> \u001b[39m\u001b[32m9\u001b[39m \u001b[43mdfs_preorder\u001b[49m\u001b[43m(\u001b[49m\u001b[43mnode\u001b[49m\u001b[43m.\u001b[49m\u001b[43mleft\u001b[49m\u001b[43m)\u001b[49m\n\u001b[32m     10\u001b[39m dfs_preorder(node.right)\n\u001b[32m     11\u001b[39m \u001b[38;5;28mprint\u001b[39m(node.val,ends=\u001b[33m'\u001b[39m\u001b[33m  \u001b[39m\u001b[33m'\u001b[39m)\n",
      "\u001b[36mCell\u001b[39m\u001b[36m \u001b[39m\u001b[32mIn[3]\u001b[39m\u001b[32m, line 9\u001b[39m, in \u001b[36mdfs_preorder\u001b[39m\u001b[34m(node)\u001b[39m\n\u001b[32m      7\u001b[39m \u001b[38;5;28;01mif\u001b[39;00m \u001b[38;5;129;01mnot\u001b[39;00m node:\n\u001b[32m      8\u001b[39m     \u001b[38;5;28;01mreturn\u001b[39;00m\n\u001b[32m----> \u001b[39m\u001b[32m9\u001b[39m \u001b[43mdfs_preorder\u001b[49m\u001b[43m(\u001b[49m\u001b[43mnode\u001b[49m\u001b[43m.\u001b[49m\u001b[43mleft\u001b[49m\u001b[43m)\u001b[49m\n\u001b[32m     10\u001b[39m dfs_preorder(node.right)\n\u001b[32m     11\u001b[39m \u001b[38;5;28mprint\u001b[39m(node.val,ends=\u001b[33m'\u001b[39m\u001b[33m  \u001b[39m\u001b[33m'\u001b[39m)\n",
      "\u001b[36mCell\u001b[39m\u001b[36m \u001b[39m\u001b[32mIn[3]\u001b[39m\u001b[32m, line 11\u001b[39m, in \u001b[36mdfs_preorder\u001b[39m\u001b[34m(node)\u001b[39m\n\u001b[32m      9\u001b[39m dfs_preorder(node.left)\n\u001b[32m     10\u001b[39m dfs_preorder(node.right)\n\u001b[32m---> \u001b[39m\u001b[32m11\u001b[39m \u001b[38;5;28;43mprint\u001b[39;49m\u001b[43m(\u001b[49m\u001b[43mnode\u001b[49m\u001b[43m.\u001b[49m\u001b[43mval\u001b[49m\u001b[43m,\u001b[49m\u001b[43mends\u001b[49m\u001b[43m=\u001b[49m\u001b[33;43m'\u001b[39;49m\u001b[33;43m  \u001b[39;49m\u001b[33;43m'\u001b[39;49m\u001b[43m)\u001b[49m\n",
      "\u001b[31mTypeError\u001b[39m: print() got an unexpected keyword argument 'ends'. Did you mean 'end'?"
     ]
    }
   ],
   "source": [
    "class Node:\n",
    "    def __init__(self,val):\n",
    "        self.val=val\n",
    "        self.left=None\n",
    "        self.right=None\n",
    "def dfs_preorder(node):\n",
    "    if not node:\n",
    "        return\n",
    "    dfs_preorder(node.left)\n",
    "    dfs_preorder(node.right)\n",
    "    print(node.val,ends='  ')\n",
    "\n",
    "#Build Tree\n",
    "\n",
    "root=Node(1)\n",
    "root.left=Node(2)\n",
    "root.right=Node(3)\n",
    "root.left.left=Node(4)\n",
    "root.left.right=Node(5)\n",
    "root.right.right=Node(6)\n",
    "\n",
    "dfs_preorder(root)"
   ]
  },
  {
   "cell_type": "code",
   "execution_count": null,
   "id": "2150dc51",
   "metadata": {},
   "outputs": [],
   "source": [
    "#Types of graphs\n",
    "'''\n",
    "1.Directed: One-way roads\n",
    "2.Undirected: Two-way roads\n",
    "3.Weighted:Distance/cost attached\n",
    "4.Unweighted\n",
    "5.Cyclic:Routes that loop back\n",
    "6.Acyclic:No loops\n",
    "\n",
    "'''"
   ]
  },
  {
   "cell_type": "code",
   "execution_count": null,
   "id": "04af6341",
   "metadata": {},
   "outputs": [],
   "source": [
    "#Graph Representation\n",
    "''' \n",
    "Adjacency List ->(Python dict of lists)\n",
    "Adjacency Matrix->(For dense Graphs)\n",
    "\n",
    "'''"
   ]
  },
  {
   "cell_type": "code",
   "execution_count": 6,
   "id": "7fcbdc11",
   "metadata": {},
   "outputs": [
    {
     "name": "stdout",
     "output_type": "stream",
     "text": [
      "{'A': ['B', 'C'], 'B': ['A'], 'C': ['A']}\n"
     ]
    }
   ],
   "source": [
    "#Represent a simple city map\n",
    "''' \n",
    "Lets Consider You have 3 cities:A,B,C\n",
    "\n",
    "There are roads:\n",
    "A=B\n",
    "B=C\n",
    "\n",
    "'''\n",
    "\n",
    "graph={\n",
    "    'A':['B','C'],\n",
    "    'B':['A'],\n",
    "    'C':['A']\n",
    "\n",
    "}\n",
    "print(graph)\n",
    "\n",
    "\n"
   ]
  },
  {
   "cell_type": "code",
   "execution_count": 8,
   "id": "31bf5ba7",
   "metadata": {},
   "outputs": [
    {
     "name": "stdout",
     "output_type": "stream",
     "text": [
      "A\n",
      "B\n",
      "D\n",
      "C\n",
      "E\n"
     ]
    }
   ],
   "source": [
    "from collections import deque\n",
    "def dfs(graph, start, visited=None):\n",
    "    if visited is None:\n",
    "        visited = set()\n",
    "    print(start)\n",
    "    visited.add(start)\n",
    "    for neighbor in graph [start]:\n",
    "        if neighbor not in visited:\n",
    "            dfs(graph, neighbor, visited)\n",
    "graph = {\n",
    "'A': ['B', 'C'],\n",
    "'B': ['D'],\n",
    "'C': ['E'],\n",
    "'D': [],\n",
    "'E': []\n",
    "\n",
    "}\n",
    "\n",
    "dfs(graph,'A')"
   ]
  },
  {
   "cell_type": "code",
   "execution_count": null,
   "id": "188d0b9e",
   "metadata": {},
   "outputs": [
    {
     "name": "stdout",
     "output_type": "stream",
     "text": [
      "A\n",
      "B\n",
      "C\n",
      "D\n",
      "E\n"
     ]
    }
   ],
   "source": [
    "from collections import deque\n",
    "def bfs (graph, start):\n",
    "    visited = set()\n",
    "    queue = deque([start])\n",
    "    while queue:\n",
    "        node= queue.popleft() \n",
    "        if node not in visited:\n",
    "            print(node)\n",
    "            visited.add(node)\n",
    "            for i in graph [node]:\n",
    "                queue.append(i)\n",
    "graph = {\n",
    "'A': ['B', 'C'],\n",
    "'B': ['D'],\n",
    "'C': ['E'],\n",
    "'D': [],\n",
    "'E': []\n",
    "}\n",
    "bfs(graph, 'A')"
   ]
  },
  {
   "cell_type": "code",
   "execution_count": 11,
   "id": "e06492d1",
   "metadata": {},
   "outputs": [
    {
     "name": "stdout",
     "output_type": "stream",
     "text": [
      "A\n",
      "B\n",
      "D\n",
      "C\n",
      "E\n"
     ]
    }
   ],
   "source": [
    "#Deth first search in graph\n",
    "def dfs(graph, start, visited=None):\n",
    "    if visited is None:\n",
    "        visited = set()\n",
    "    print(start)\n",
    "    visited.add(start)\n",
    "    for i in graph [start]:\n",
    "        if i not in visited:\n",
    "            dfs(graph, i, visited) #recursion\n",
    "graph = {\n",
    "'A': ['B', 'C'],\n",
    "'B': ['D'],\n",
    "'C': ['E'],\n",
    "'D': [],\n",
    "'E': []\n",
    "\n",
    "}\n",
    "dfs(graph,'A')"
   ]
  },
  {
   "cell_type": "code",
   "execution_count": null,
   "id": "4b01e8a0",
   "metadata": {},
   "outputs": [
    {
     "name": "stdout",
     "output_type": "stream",
     "text": [
      "{'A': ['B', 'C'], 'B': ['A', 'D'], 'C': ['A'], 'D': ['B']}\n"
     ]
    }
   ],
   "source": [
    "#Add edges\n",
    "def add_edge(graph, u, v):\n",
    "    if u not in graph:\n",
    "        graph [u] = []\n",
    "    if v not in graph:\n",
    "        graph[v] = []\n",
    "    graph [u].append(v)\n",
    "    graph[v].append(u)    # remove if graph is directed\n",
    "\n",
    "graph = {}\n",
    "add_edge(graph, 'A', 'B')\n",
    "add_edge(graph, 'A', 'C')\n",
    "add_edge(graph, 'B', 'D')\n",
    "print(graph)\n"
   ]
  },
  {
   "cell_type": "code",
   "execution_count": 16,
   "id": "a8f67c3f",
   "metadata": {},
   "outputs": [
    {
     "name": "stdout",
     "output_type": "stream",
     "text": [
      "4\n"
     ]
    }
   ],
   "source": [
    "#Count Nodes in a Graph using DFS\n",
    "def count_nodes (graph, start, visited=None):\n",
    "    if visited is None:\n",
    "        visited = set()\n",
    "    visited.add(start)\n",
    "    count = 1\n",
    "\n",
    "    for neighbor in graph [start]:\n",
    "        if neighbor not in visited:\n",
    "            count += count_nodes (graph, neighbor, visited)\n",
    "    return count\n",
    "# Test\n",
    "graph = {\n",
    "    'A': ['B', 'C'],\n",
    "    'B': ['D'],\n",
    "    'C':[],\n",
    "    'D': []\n",
    "}\n",
    "\n",
    "print(count_nodes(graph, 'A'))"
   ]
  },
  {
   "cell_type": "code",
   "execution_count": 19,
   "id": "749989c7",
   "metadata": {},
   "outputs": [
    {
     "name": "stdout",
     "output_type": "stream",
     "text": [
      "True\n",
      "False\n"
     ]
    }
   ],
   "source": [
    "#Check if Path Exists Between Two Nodes (DFS)\n",
    "def has_path(graph, src, dst, visited=None):\n",
    "    if visited is None:\n",
    "        visited = set()\n",
    "    if src == dst:\n",
    "        return True\n",
    "    visited.add(src)\n",
    "\n",
    "    for neighbor in graph [src]:\n",
    "        if neighbor not in visited:\n",
    "            if has_path(graph, neighbor, dst, visited):\n",
    "                return True\n",
    "    return False\n",
    "# Test\n",
    "graph = {\n",
    "'A': ['B'],\n",
    "'B': ['C'],\n",
    "'C':[],\n",
    "'D':[]\n",
    "}\n",
    "\n",
    "print(has_path(graph, 'A', 'C'))# True\n",
    "\n",
    "print(has_path(graph, 'A', 'D'))# False\n",
    "\n"
   ]
  },
  {
   "cell_type": "code",
   "execution_count": 27,
   "id": "40646532",
   "metadata": {},
   "outputs": [],
   "source": [
    "#Cycle Detection Code\n",
    "def has_cycle(g):\n",
    "    v = set()\n",
    "    def dfs(n, p):\n",
    "        v.add(n)\n",
    "        for i in g[n]: \n",
    "            if i not in v:\n",
    "                if dfs(i, n): return True\n",
    "            elif i != p:\n",
    "                return True\n",
    "        return False\n",
    "    \n",
    "    for node in g:\n",
    "        if node not in v:\n",
    "            if dfs(node, None): return True\n",
    "    return False\n",
    "\n",
    "g=[]"
   ]
  }
 ],
 "metadata": {
  "kernelspec": {
   "display_name": "Python 3",
   "language": "python",
   "name": "python3"
  },
  "language_info": {
   "codemirror_mode": {
    "name": "ipython",
    "version": 3
   },
   "file_extension": ".py",
   "mimetype": "text/x-python",
   "name": "python",
   "nbconvert_exporter": "python",
   "pygments_lexer": "ipython3",
   "version": "3.13.5"
  }
 },
 "nbformat": 4,
 "nbformat_minor": 5
}

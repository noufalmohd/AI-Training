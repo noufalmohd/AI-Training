{
 "cells": [
  {
   "cell_type": "code",
   "execution_count": null,
   "id": "6c0fec90",
   "metadata": {},
   "outputs": [],
   "source": [
    "\n",
    "\n",
    "# DAY -06\n",
    "\n",
    "\n",
    "#  file concept in python\n",
    "\n",
    "#(____.txt) - format\n",
    "\n",
    "#r-read mode\n",
    "\n",
    "\n",
    "file1=open(r\"C:\\Users\\hp\\Downloads\\File handle\\Demo1.txt\")\n",
    "#Absolute path-entire path (option-copy path)\n",
    "#Relative path - particular file name (option - copy relative psth)\n",
    "\n",
    "# Files are named locations of disk to store relevant information\n",
    "# operations - open(),read(),write(),append()\n",
    "\n",
    "# 1- open the file location\n",
    "# 2-read/write operation\n",
    "# 3-close the file\n",
    "\n",
    "\n",
    "# the file can be a text file,binary file,csv file (coma seprate value)\n",
    "\n",
    "\n",
    "# working of open() function\n",
    "\n",
    "# syntax-    file=open(\"filepath\",\"mode\")\n",
    "\n",
    "# 1.r.read the file\n",
    "# 2.w.write the content to the file (existing data will erase and add the new data)\n",
    "# 3.a.append the content to the file(the existing data will not erase it add to end (didn't override))\n",
    "# 4.r+.to read and write the content\n",
    "# 5.w+.to write and read the content(it will override the existing content)\n",
    "# 6.a+.to append and read the content (it willnot override the content)\n"
   ]
  },
  {
   "cell_type": "code",
   "execution_count": null,
   "id": "805fe073",
   "metadata": {},
   "outputs": [
    {
     "name": "stdout",
     "output_type": "stream",
     "text": [
      "<_io.TextIOWrapper name='Demo1.txt' mode='r' encoding='cp1252'>\n",
      "<_io.TextIOWrapper name='C:\\\\Users\\\\hp\\\\Downloads\\\\File handle\\\\Demo1.txt' mode='r' encoding='cp1252'>\n",
      "this is india\n",
      "\n",
      "--------------------------------------------------------\n",
      "this is india\n",
      "\n",
      "--------------------------------------------------------\n",
      "['this is india\\n']\n",
      "--------------------------------------------------------\n"
     ]
    }
   ],
   "source": [
    "# read mode\n",
    "file=open(\"Demo1.txt\",\"r\")\n",
    "print(file)\n",
    "file.name  # name of file\n",
    "file.mode  # mode of file\n",
    "file.close()\n",
    "\n",
    "# or\n",
    "file=open(r\"C:\\Users\\hp\\Downloads\\File handle\\Demo1.txt\")\n",
    "print(file)\n",
    "\n",
    "\n",
    "# reding from a file \n",
    "# 1.read,2.read line,3.readlines\n",
    "\n",
    "# 1.read -- read the entire file \n",
    "# 2.readline--reads a one line \n",
    "# 3.readlines -- it will read line by line as a list\n",
    "\n",
    "# read()\n",
    "file=open(\"Demo1.txt\",\"r\")\n",
    "data=file.read()\n",
    "print(data)\n",
    "\n",
    "\n",
    "print(\"--------------------------------------------------------\")\n",
    "\n",
    "\n",
    "\n",
    "file=open(\"Demo1.txt\",\"r\")  # print sigle line\n",
    "data=file.readline()\n",
    "print(data)\n",
    "\n",
    "\n",
    "print(\"--------------------------------------------------------\")\n",
    "\n",
    "\n",
    "\n",
    "file=open(\"Demo1.txt\",\"r\")\n",
    "data=file.readlines() # it give like a list of string\n",
    "print(data)\n",
    "\n",
    "\n",
    "print(\"--------------------------------------------------------\")\n",
    "\n",
    "\n"
   ]
  },
  {
   "cell_type": "code",
   "execution_count": null,
   "id": "6d4be7f9",
   "metadata": {},
   "outputs": [
    {
     "name": "stdout",
     "output_type": "stream",
     "text": [
      "---------------------------------------------------------------------------------------------------------\n",
      "14\n"
     ]
    }
   ],
   "source": [
    "# write ()-write(sigle line),writelines(more than two lines)\n",
    "\n",
    "\n",
    "file=open(\"Demo1.txt\",\"w\")\n",
    "cont=[\"this is india\\n\",\"I am indian only\\n\",\"we are in AI class\"]\n",
    "data=file.writelines(cont) \n",
    "print(data)\n",
    "\n",
    "print(\"---------------------------------------------------------------------------------------------------------\")\n",
    "\n",
    "file=open(\"Demo1.txt\",\"w\")\n",
    "cont=\"this is india\\n\"\n",
    "data=file.write(cont) \n",
    "print(data)\n",
    "\n",
    "\n",
    "# it added to the file but all existing file was erased"
   ]
  },
  {
   "cell_type": "code",
   "execution_count": null,
   "id": "9d25470a",
   "metadata": {},
   "outputs": [
    {
     "name": "stdout",
     "output_type": "stream",
     "text": [
      "this is india\n",
      "this is china\n",
      "we are in AI class\n",
      "this is china\n",
      "we are in AI class\n",
      "this is china\n",
      "we are in AI class\n",
      "this is china\n",
      "we are in AI class\n",
      "this is china\n",
      "we are in AI class\n",
      "this is china\n",
      "we are in AI class\n",
      "\n",
      "---------------------------------------------------------------------------------------------------------\n"
     ]
    }
   ],
   "source": [
    "# append()\n",
    "\n",
    "\n",
    "file=open(\"Demo1.txt\",\"a\")\n",
    "file.write(\"this is china\\n\")\n",
    "file.write(\"we are in AI class\\n\")\n",
    "file=open(\"Demo1.txt\",\"r\")\n",
    "# write is used for append\n",
    "print(file.read())\n",
    "# print no of time you want there is no limit\n",
    "print(\"---------------------------------------------------------------------------------------------------------\")\n"
   ]
  },
  {
   "cell_type": "code",
   "execution_count": null,
   "id": "12b64298",
   "metadata": {},
   "outputs": [
    {
     "name": "stdout",
     "output_type": "stream",
     "text": [
      "this is india\n",
      "this is china\n",
      "we are in AI class\n",
      "this is china\n",
      "we are in AI class\n",
      "this is china\n",
      "we are in AI class\n",
      "this is china\n",
      "we are in AI class\n",
      "this is china\n",
      "we are in AI class\n",
      "this is china\n",
      "we are in AI class\n",
      "you are greatyou are greatyou are great\n",
      "\n",
      "this is india\n",
      "this is china\n",
      "we are in AI class\n",
      "this is china\n",
      "we are in AI class\n",
      "this is china\n",
      "we are in AI class\n",
      "this is china\n",
      "we are in AI class\n",
      "this is china\n",
      "we are in AI class\n",
      "this is china\n",
      "we are in AI class\n",
      "you are greatyou are greatyou are great\n",
      "you are great\n",
      "\n"
     ]
    }
   ],
   "source": [
    "#read and write r+\n",
    "\n",
    "file=open(\"Demo1.txt\",\"r+\")\n",
    "cont=file.read()\n",
    "print(cont)\n",
    "file.write(\"you are great\\n\")\n",
    "\n",
    "file=open(\"Demo1.txt\",\"r+\")\n",
    "cont=file.read()\n",
    "print(cont)\n"
   ]
  },
  {
   "cell_type": "code",
   "execution_count": null,
   "id": "ac94dbcd",
   "metadata": {},
   "outputs": [
    {
     "name": "stdout",
     "output_type": "stream",
     "text": [
      "\n"
     ]
    }
   ],
   "source": [
    "#write and read w+\n",
    "\n",
    "file=open(\"Demo1.txt\",\"w+\")\n",
    "file.write(\"you guys are very smart\")\n",
    "print(file.read()) #added to the file"
   ]
  },
  {
   "cell_type": "code",
   "execution_count": null,
   "id": "abea4e69",
   "metadata": {},
   "outputs": [
    {
     "name": "stdout",
     "output_type": "stream",
     "text": [
      "\n"
     ]
    }
   ],
   "source": [
    "# append and read a+ \n",
    "\n",
    "\n",
    "file=open(\"Demo1.txt\",\"a+\")\n",
    "file.write(\"you are very good\\n\")\n",
    "file.write(\"you are nice\\n\")\n",
    "print(file.read())\n",
    "\n",
    "\n",
    "\n"
   ]
  },
  {
   "cell_type": "code",
   "execution_count": null,
   "id": "3e5c0b61",
   "metadata": {},
   "outputs": [],
   "source": [
    "# csv file handling\n",
    "\n",
    "# structured - Tabular data\n",
    "# unstructured - \n",
    "\n",
    "import pandas as pd # it for cleaning unwanted or irregular datas and all the operations like inserting modifying ect.... all are done by pandas)\n"
   ]
  },
  {
   "cell_type": "code",
   "execution_count": null,
   "id": "8d5ad6f1",
   "metadata": {},
   "outputs": [],
   "source": [
    "#pip install openpyxl # installing openpyxl"
   ]
  },
  {
   "cell_type": "code",
   "execution_count": null,
   "id": "1b2d90e8",
   "metadata": {},
   "outputs": [
    {
     "name": "stdout",
     "output_type": "stream",
     "text": [
      "    SI.NO      name     salary\n",
      "0       1     richu       1000\n",
      "1       2    godson       2500\n",
      "2       3      abhi          2\n",
      "3       4     akash          1\n",
      "4       5    noufal          0\n",
      "5       6    razeen         -1\n",
      "6       7   jameela    1000000\n",
      "7       8      shaz     100000\n",
      "8       9    sandra       9000\n",
      "9      10      fady       3000\n",
      "10     11    mufeed        200\n",
      "11     12      fiza        500\n",
      "12     13     minha          3\n",
      "13     14   abishek          6\n",
      "14     15  athulyaa          4\n",
      "15     16     kiran          0\n",
      "16     17   kishore  100000000\n",
      "17     18      manu     300000\n",
      "18     19      raju        500\n"
     ]
    }
   ],
   "source": [
    "\n",
    "# excel format (for xlsx format)\n",
    "import pandas as pd\n",
    "data = pd.read_excel(\"Book1.xlsx\")\n",
    "print(data) "
   ]
  },
  {
   "cell_type": "code",
   "execution_count": null,
   "id": "0ecd9d38",
   "metadata": {},
   "outputs": [
    {
     "name": "stdout",
     "output_type": "stream",
     "text": [
      "you guys are very smartyou are very good\n",
      "you are niceyou are very good\n",
      "you are nice\n"
     ]
    }
   ],
   "source": [
    "# read a file and return longest sequence\n",
    "\n",
    "# with -no need to use close function\n",
    "# import re  re-regular expresion(',/?;><.= ect..  a-z,A-Z)\n",
    "\n",
    "#strip()- it is used to remove unwanted extra spaces,typos ect....\n",
    "def ls(filepath):\n",
    "    with open(filepath,\"r\") as file:\n",
    "        text=file.read()\n",
    "        sentence=text.split(\".\")\n",
    "        max_sentence=max(sentence,key=len)\n",
    "        return max_sentence.strip()\n",
    "print(ls(\"Demo1.txt\"))\n"
   ]
  },
  {
   "cell_type": "code",
   "execution_count": null,
   "id": "a0b39bc5",
   "metadata": {},
   "outputs": [
    {
     "ename": "TypeError",
     "evalue": "'str' object cannot be interpreted as an integer",
     "output_type": "error",
     "traceback": [
      "\u001b[31m---------------------------------------------------------------------------\u001b[39m\n",
      "\u001b[31mTypeError\u001b[39m                                 Traceback (most recent call last)\n",
      "\u001b[36mCell\u001b[39m\u001b[36m \u001b[39m\u001b[32mIn[2]\u001b[39m\u001b[32m, line 9\u001b[39m\n",
      "\u001b[32m      7\u001b[39m         max_sentence=\u001b[38;5;28mmax\u001b[39m(sentences,key=\u001b[38;5;28mlen\u001b[39m)\n",
      "\u001b[32m      8\u001b[39m         \u001b[38;5;28;01mreturn\u001b[39;00m max_sentence\n",
      "\u001b[32m----> \u001b[39m\u001b[32m9\u001b[39m \u001b[38;5;28mprint\u001b[39m(\u001b[43mls\u001b[49m\u001b[43m(\u001b[49m\u001b[33;43m\"\u001b[39;49m\u001b[33;43mDemo1.txt\u001b[39;49m\u001b[33;43m\"\u001b[39;49m\u001b[43m)\u001b[49m)\n",
      "\u001b[32m     13\u001b[39m \u001b[38;5;66;03m# for i in sentence:\u001b[39;00m\n",
      "\u001b[32m     14\u001b[39m     \u001b[38;5;66;03m# if(i.strip())\u001b[39;00m\n",
      "\u001b[32m     15\u001b[39m     \u001b[38;5;66;03m#     i.strip()\u001b[39;00m\n",
      "\n",
      "\u001b[36mCell\u001b[39m\u001b[36m \u001b[39m\u001b[32mIn[2]\u001b[39m\u001b[32m, line 5\u001b[39m, in \u001b[36mls\u001b[39m\u001b[34m(filepath)\u001b[39m\n",
      "\u001b[32m      3\u001b[39m \u001b[38;5;28;01mwith\u001b[39;00m \u001b[38;5;28mopen\u001b[39m(filepath,\u001b[33m\"\u001b[39m\u001b[33mr\u001b[39m\u001b[33m\"\u001b[39m) \u001b[38;5;28;01mas\u001b[39;00m file:\n",
      "\u001b[32m      4\u001b[39m     text=file.read()\n",
      "\u001b[32m----> \u001b[39m\u001b[32m5\u001b[39m     sentence=\u001b[43mtext\u001b[49m\u001b[43m.\u001b[49m\u001b[43msplit\u001b[49m\u001b[43m(\u001b[49m\u001b[33;43mr\u001b[39;49m\u001b[33;43m\"\u001b[39;49m\u001b[33;43m.>/?,!\u001b[39;49m\u001b[33;43m\"\u001b[39;49m\u001b[43m,\u001b[49m\u001b[43mtext\u001b[49m\u001b[43m)\u001b[49m\n",
      "\u001b[32m      6\u001b[39m     sentences=[i.strip() \u001b[38;5;28;01mfor\u001b[39;00m i \u001b[38;5;129;01min\u001b[39;00m sentence \u001b[38;5;28;01mif\u001b[39;00m(i.strip())]\n",
      "\u001b[32m      7\u001b[39m     max_sentence=\u001b[38;5;28mmax\u001b[39m(sentences,key=\u001b[38;5;28mlen\u001b[39m)\n",
      "\n",
      "\u001b[31mTypeError\u001b[39m: 'str' object cannot be interpreted as an integer"
     ]
    }
   ],
   "source": [
    "\n",
    "import re\n",
    "def ls(filepath):\n",
    "    with open(filepath,\"r\") as file:\n",
    "        text=file.read()\n",
    "        sentence=text.split(r\".>/?,!\",text)\n",
    "        sentences=[i.strip() for i in sentence if(i.strip())]\n",
    "        max_sentence=max(sentences,key=len)\n",
    "        return max_sentence\n",
    "print(ls(\"Demo1.txt\"))\n",
    "\n",
    "\n",
    "\n",
    "# for i in sentence:\n",
    "    # if(i.strip())\n",
    "    #     i.strip()"
   ]
  }
 ],
 "metadata": {
  "kernelspec": {
   "display_name": "Python 3",
   "language": "python",
   "name": "python3"
  },
  "language_info": {
   "name": "python",
   "version": "3.13.5"
  }
 },
 "nbformat": 4,
 "nbformat_minor": 5
}

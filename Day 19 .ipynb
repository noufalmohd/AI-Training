{
 "cells": [
  {
   "cell_type": "code",
   "execution_count": null,
   "id": "986ce7aa",
   "metadata": {},
   "outputs": [],
   "source": [
    "# Day 19\n",
    "\n",
    "# Hashing - it means to create a hash value of a given input.\n",
    "# Hash value is a fixed-size string of characters that represents the input in a unique way.\n",
    "# Hashing is used to secure data, store data in a secure way, and to verify data.\n",
    "# Hashing is used in cryptography, data structures, and databases.\n",
    "# Hashing is used to create digital signatures, digital certificates, and digital keys.\n",
    "# Hashing is used to create hash tables, hash maps, and hash sets.\n",
    "# Hashing is used to create hash functions, hash algorithms, and hash tables.\n",
    "# Hashing is used to create hash values, hash codes, and hash values."
   ]
  },
  {
   "cell_type": "code",
   "execution_count": null,
   "id": "24569de7",
   "metadata": {},
   "outputs": [
    {
     "name": "stdout",
     "output_type": "stream",
     "text": [
      "0\n",
      "0\n"
     ]
    }
   ],
   "source": [
    "# Time Complexity - How much time it takes to execute a program.\n",
    "# Space Complexity - How much memory it takes to execute a program.\n",
    "n = 1\n",
    "for i in range(n):\n",
    "    for j in range(n+1):     #o(n^2) -if we use 2 for loop \n",
    "        print(i)\n",
    "\n",
    "print(\"----------------------------------------------------------------------------------------------------------------------------------------------------------------------------------\")\n",
    "\n",
    "for i in range(n):           #o(n)\n",
    "    print(i)"
   ]
  },
  {
   "cell_type": "code",
   "execution_count": 7,
   "id": "b5298d79",
   "metadata": {},
   "outputs": [
    {
     "name": "stdout",
     "output_type": "stream",
     "text": [
      "416117042778256631\n",
      "423945846873756964\n",
      "5090688335663921327\n"
     ]
    }
   ],
   "source": [
    "list = [\"cheri\",\"pinky\",\"tom\"]\n",
    "for i in list:\n",
    "    print(hash(i))"
   ]
  },
  {
   "cell_type": "code",
   "execution_count": null,
   "id": "93d0ccf1",
   "metadata": {},
   "outputs": [],
   "source": [
    "# Hash set - When we apply hash in set concept\n",
    "\n",
    "# Hash map - When we apply hash in dictionary concept\n",
    "\n",
    "# counter, dict, defaultdict\n",
    "\n"
   ]
  },
  {
   "cell_type": "code",
   "execution_count": null,
   "id": "1463bad2",
   "metadata": {},
   "outputs": [],
   "source": [
    "# Take a input (ex.Good Morning). Need to count the characters.\n",
    "\n"
   ]
  },
  {
   "cell_type": "code",
   "execution_count": null,
   "id": "b01a844a",
   "metadata": {},
   "outputs": [],
   "source": [
    "person = {\"name\":\"Avani\",\"age\":40}\n",
    "print(hash(\"name\"))\n",
    "print(hash(\"age\"))"
   ]
  },
  {
   "cell_type": "code",
   "execution_count": null,
   "id": "f9bdb605",
   "metadata": {},
   "outputs": [],
   "source": [
    "# This hash value will help to store and we can find it \n",
    "# Hashable - It can be used as dict key or set element"
   ]
  },
  {
   "cell_type": "code",
   "execution_count": null,
   "id": "67d9aac6",
   "metadata": {},
   "outputs": [
    {
     "name": "stdout",
     "output_type": "stream",
     "text": [
      "riswan\n"
     ]
    }
   ],
   "source": [
    "# Custom Class using Hash and eq function\n",
    "\n",
    "class student():\n",
    "    def __init__(self,roll):\n",
    "        self.roll = roll\n",
    "    def __hash__(self):\n",
    "        return hash(self.roll)\n",
    "    def __eq__(self,other):\n",
    "        return self.roll == other.roll\n",
    "s1 = student(101)\n",
    "s2 = student(101)\n",
    "\n",
    "d = {}\n",
    "d[s1] = \"riswan\"\n",
    "print(d[s2])"
   ]
  },
  {
   "cell_type": "code",
   "execution_count": 1,
   "id": "fe84fe70",
   "metadata": {},
   "outputs": [
    {
     "name": "stdout",
     "output_type": "stream",
     "text": [
      "1656402831556894839\n",
      "-7398251919026627977\n"
     ]
    }
   ],
   "source": [
    "# Hash Collision - Two different objects may return\n",
    "# The same hash\n",
    "\n",
    "print(hash(\"Aa\"))\n",
    "print(hash(\"Bb\"))"
   ]
  },
  {
   "cell_type": "code",
   "execution_count": 16,
   "id": "48611709",
   "metadata": {},
   "outputs": [
    {
     "ename": "AttributeError",
     "evalue": "'dict' object has no attribute 'add'",
     "output_type": "error",
     "traceback": [
      "\u001b[31m---------------------------------------------------------------------------\u001b[39m",
      "\u001b[31mAttributeError\u001b[39m                            Traceback (most recent call last)",
      "\u001b[36mCell\u001b[39m\u001b[36m \u001b[39m\u001b[32mIn[16]\u001b[39m\u001b[32m, line 5\u001b[39m\n\u001b[32m      3\u001b[39m \u001b[38;5;28;01mfor\u001b[39;00m i \u001b[38;5;129;01min\u001b[39;00m \u001b[38;5;28mstr\u001b[39m:\n\u001b[32m      4\u001b[39m     \u001b[38;5;28;01mif\u001b[39;00m i \u001b[38;5;129;01mnot\u001b[39;00m \u001b[38;5;129;01min\u001b[39;00m \u001b[38;5;28mset\u001b[39m:\n\u001b[32m----> \u001b[39m\u001b[32m5\u001b[39m         \u001b[38;5;28;43mset\u001b[39;49m\u001b[43m.\u001b[49m\u001b[43madd\u001b[49m(i)\n\u001b[32m      6\u001b[39m \u001b[38;5;28mprint\u001b[39m(\u001b[38;5;28mset\u001b[39m)\n",
      "\u001b[31mAttributeError\u001b[39m: 'dict' object has no attribute 'add'"
     ]
    }
   ],
   "source": [
    "str = \"hello akash\"\n",
    "set = {}\n",
    "for i in str:\n",
    "    if i not in set:\n",
    "        set.add(i)\n",
    "print(set)"
   ]
  },
  {
   "cell_type": "code",
   "execution_count": 3,
   "id": "d53928c0",
   "metadata": {},
   "outputs": [
    {
     "name": "stdout",
     "output_type": "stream",
     "text": [
      "['The', 'sat', 'on', 'the']\n",
      "['sat', 'the', 'on', 'The']\n"
     ]
    }
   ],
   "source": [
    "a = \"The cat sat on the mat\"\n",
    "b = \"The dog sat on the fog\"\n",
    "list = []\n",
    "s_a = a.split()\n",
    "s_b = b.split()\n",
    "\n",
    "for i in s_a:\n",
    "    if i in s_b:\n",
    "        list.append(i)\n",
    "print(list)\n",
    "\n",
    "\n",
    "# By Using Set\n",
    "\n",
    "set1 = set(s_a)\n",
    "set2 = set(s_b)\n",
    "\n",
    "list1 = []\n",
    "\n",
    "for i in set1:\n",
    "    if i in set2:\n",
    "        list1.append(i)\n",
    "print(list1)"
   ]
  },
  {
   "cell_type": "code",
   "execution_count": null,
   "id": "1bed5d8e",
   "metadata": {},
   "outputs": [
    {
     "name": "stdout",
     "output_type": "stream",
     "text": [
      "[3, 2]\n"
     ]
    }
   ],
   "source": [
    "def findDuplicates(nums):\n",
    "    freq = {}\n",
    "    result = []\n",
    "\n",
    "    for num in nums:\n",
    "        freq[num] = freq.get(num, 0) + 1\n",
    "\n",
    "    for num, count in freq.items():\n",
    "        if count == 2:\n",
    "            result.append(num)\n",
    "\n",
    "    return result\n",
    "\n",
    "\n",
    "nums = [4, 3, 2, 7, 8, 2, 3, 1]\n",
    "print(findDuplicates(nums)) "
   ]
  },
  {
   "cell_type": "code",
   "execution_count": 3,
   "id": "bafe65ad",
   "metadata": {},
   "outputs": [
    {
     "name": "stdout",
     "output_type": "stream",
     "text": [
      "[4, 9]\n"
     ]
    }
   ],
   "source": [
    "nums1 = [4,9,5]\n",
    "nums2 = [9,4,8,4]\n",
    "list = []\n",
    "for i in nums1:\n",
    "    if i in nums2:\n",
    "        list.append(i)\n",
    "print(list)"
   ]
  }
 ],
 "metadata": {
  "kernelspec": {
   "display_name": "Python 3",
   "language": "python",
   "name": "python3"
  },
  "language_info": {
   "codemirror_mode": {
    "name": "ipython",
    "version": 3
   },
   "file_extension": ".py",
   "mimetype": "text/x-python",
   "name": "python",
   "nbconvert_exporter": "python",
   "pygments_lexer": "ipython3",
   "version": "3.13.5"
  }
 },
 "nbformat": 4,
 "nbformat_minor": 5
}

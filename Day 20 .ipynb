{
 "cells": [
  {
   "cell_type": "code",
   "execution_count": null,
   "id": "7045b8e4",
   "metadata": {},
   "outputs": [],
   "source": [
    "# Day 20 \n",
    "\n",
    "# Stack - LIFO\n",
    "# Queue - FIFO\n",
    "# Linear Data Structure - when the time complexity is o(1) then its called Linear Data Structure"
   ]
  },
  {
   "cell_type": "code",
   "execution_count": null,
   "id": "40972543",
   "metadata": {},
   "outputs": [],
   "source": [
    "# Stack Methods\n",
    "\n",
    "# Push - Add the elements into the stack\n",
    "# Pop - Remove the elements from the stack\n",
    "# Top (or) Peek -It returns  Top of the element (Last Element) from the stack\n",
    "# Isempty - Checks whether the stack is empty or not\n",
    "# Size - The size of the stack  ."
   ]
  },
  {
   "cell_type": "code",
   "execution_count": 3,
   "id": "0dce5e36",
   "metadata": {},
   "outputs": [
    {
     "ename": "TypeError",
     "evalue": "stack.isempty() takes 0 positional arguments but 1 was given",
     "output_type": "error",
     "traceback": [
      "\u001b[31m---------------------------------------------------------------------------\u001b[39m",
      "\u001b[31mTypeError\u001b[39m                                 Traceback (most recent call last)",
      "\u001b[36mCell\u001b[39m\u001b[36m \u001b[39m\u001b[32mIn[3]\u001b[39m\u001b[32m, line 24\u001b[39m\n\u001b[32m     22\u001b[39m mystack.push(\u001b[32m5\u001b[39m)\n\u001b[32m     23\u001b[39m mystack.push(\u001b[32m7\u001b[39m)\n\u001b[32m---> \u001b[39m\u001b[32m24\u001b[39m \u001b[43mmystack\u001b[49m\u001b[43m.\u001b[49m\u001b[43mpop\u001b[49m\u001b[43m(\u001b[49m\u001b[32;43m5\u001b[39;49m\u001b[43m)\u001b[49m\n\u001b[32m     25\u001b[39m \u001b[38;5;28mprint\u001b[39m(mystack.display())\n",
      "\u001b[36mCell\u001b[39m\u001b[36m \u001b[39m\u001b[32mIn[3]\u001b[39m\u001b[32m, line 10\u001b[39m, in \u001b[36mstack.pop\u001b[39m\u001b[34m(self, element)\u001b[39m\n\u001b[32m      9\u001b[39m \u001b[38;5;28;01mdef\u001b[39;00m\u001b[38;5;250m \u001b[39m\u001b[34mpop\u001b[39m(\u001b[38;5;28mself\u001b[39m,element):\n\u001b[32m---> \u001b[39m\u001b[32m10\u001b[39m     \u001b[38;5;28;01mif\u001b[39;00m \u001b[38;5;28;43mself\u001b[39;49m\u001b[43m.\u001b[49m\u001b[43misempty\u001b[49m\u001b[43m(\u001b[49m\u001b[43m)\u001b[49m:\n\u001b[32m     11\u001b[39m         \u001b[38;5;28mprint\u001b[39m(\u001b[33m\"\u001b[39m\u001b[33mWe Can\u001b[39m\u001b[33m'\u001b[39m\u001b[33mt Pop the Elements\u001b[39m\u001b[33m\"\u001b[39m)\n\u001b[32m     12\u001b[39m     \u001b[38;5;28;01mreturn\u001b[39;00m \u001b[38;5;28mself\u001b[39m.stack.pop()\n",
      "\u001b[31mTypeError\u001b[39m: stack.isempty() takes 0 positional arguments but 1 was given"
     ]
    }
   ],
   "source": [
    "class stack():\n",
    "\n",
    "    def __init__ (self):\n",
    "        self.stack = []\n",
    "    \n",
    "    def push(self,elements):\n",
    "        self.stack.append(elements)\n",
    "    \n",
    "    def pop(self,element):\n",
    "        if self.isempty():\n",
    "            print(\"We Can't Pop the Elements\")\n",
    "        return self.stack.pop()\n",
    "    def peek(self):\n",
    "        return self.stack[-1]\n",
    "    def isempty():\n",
    "        return len(self.stack) == 0\n",
    "    def size(self):\n",
    "        return len(self.stack)\n",
    "\n",
    "mystack = stack()\n",
    "mystack.push(3)\n",
    "mystack.push(5)\n",
    "mystack.push(7)\n",
    "mystack.pop(5)\n",
    "print(mystack.display())\n"
   ]
  },
  {
   "cell_type": "code",
   "execution_count": null,
   "id": "b837f011",
   "metadata": {},
   "outputs": [],
   "source": [
    "class queue():\n",
    "    def __init__(self):\n",
    "        self.stack1 = []\n",
    "        self.stack2 = []\n",
    "    def enqueue(element):\n",
    "         self.queue.append(element)\n"
   ]
  },
  {
   "cell_type": "code",
   "execution_count": 10,
   "id": "4e097ccd",
   "metadata": {},
   "outputs": [
    {
     "data": {
      "text/plain": [
       "False"
      ]
     },
     "execution_count": 10,
     "metadata": {},
     "output_type": "execute_result"
    }
   ],
   "source": [
    "def value_par(s):\n",
    "    pairs = {\")\":\"(\",\"]\":\"[\",\"}\":\"{\"}\n",
    "    list = []\n",
    "    for i in s:\n",
    "        if i in pairs.values():\n",
    "            list.append(i)\n",
    "        elif i in pairs:\n",
    "            if not list or list.pop()!=pairs[i]:\n",
    "                return False \n",
    "            return True\n",
    "        \n",
    "value_par(\"(]\")"
   ]
  },
  {
   "cell_type": "code",
   "execution_count": null,
   "id": "2c4a44ce",
   "metadata": {},
   "outputs": [],
   "source": [
    "class queue():\n",
    "    def __init__(self):\n",
    "        self.stack1 = []\n",
    "        self.stack2 = []\n",
    "    def enqueue(self,val):\n",
    "        self.stack1.append(val)\n",
    "    def dequeue(self):\n",
    "        if not self.stack2:\n",
    "            while self.stack2:\n",
    "                self.stack2.append(self.stack1.pop())\n",
    "        return self.stack2.pop()\n",
    "    def peek(self):\n",
    "        if not self.stack2:\n",
    "            while self.stack1:\n",
    "                self.stack2.append(self.stack.pop())\n",
    "        return self.stack2[-1]\n",
    "    def is_empty(self):\n",
    "        if not self.stack1 and not self.stack2:\n",
    "            return \"Empty\"\n",
    "    \n",
    "A1 = queue()\n",
    "A1.enqueue(\"1\")\n",
    "A1.enqueue(\"2\")\n",
    "A1.enqueue(\"3\")\n",
    "A1.dequeue()\n",
    "A1.is_empty()"
   ]
  }
 ],
 "metadata": {
  "kernelspec": {
   "display_name": "Python 3",
   "language": "python",
   "name": "python3"
  },
  "language_info": {
   "codemirror_mode": {
    "name": "ipython",
    "version": 3
   },
   "file_extension": ".py",
   "mimetype": "text/x-python",
   "name": "python",
   "nbconvert_exporter": "python",
   "pygments_lexer": "ipython3",
   "version": "3.13.5"
  }
 },
 "nbformat": 4,
 "nbformat_minor": 5
}

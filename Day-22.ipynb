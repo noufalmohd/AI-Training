{
 "cells": [
  {
   "cell_type": "code",
   "execution_count": null,
   "id": "39f001c2",
   "metadata": {},
   "outputs": [],
   "source": [
    "#DAY 22#"
   ]
  },
  {
   "cell_type": "code",
   "execution_count": null,
   "id": "902dc1b0",
   "metadata": {},
   "outputs": [],
   "source": [
    "# Components Of Tree\n",
    "# Root - Top Node\n",
    "# Parent Node - a node that comes from Root (But if the parent node don't have any children it is not called parent node )\n",
    "# Child Node - a node that comes from Parent\n",
    "# Edge - Connection Betweeen Nodes\n",
    "# Leaf Node - A node which don't have any childern\n",
    "# Height - From the root we have to take the long path towards the leaf node\n",
    "# Depth - Calculating Level By Level"
   ]
  },
  {
   "cell_type": "code",
   "execution_count": 12,
   "id": "720c2b0d",
   "metadata": {},
   "outputs": [
    {
     "name": "stdout",
     "output_type": "stream",
     "text": [
      "CEO\n",
      " CFO\n",
      " CTO\n",
      "  QA\n",
      "  DEV\n",
      " COO\n",
      "  OPS\n"
     ]
    }
   ],
   "source": [
    "#Tree Implementation\n",
    "class Treenode():\n",
    "    def __init__(self,val):\n",
    "        self.val = val\n",
    "        self.children=[]    \n",
    "ceo=Treenode(\"CEO\")\n",
    "cfo=Treenode(\"CFO\")\n",
    "cto=Treenode(\"CTO\")\n",
    "coo=Treenode(\"COO\")\n",
    "qa=Treenode(\"QA\")\n",
    "dev=Treenode(\"DEV\")\n",
    "ops=Treenode(\"OPS\")\n",
    "\n",
    "#Making Parent and child class\n",
    "\n",
    "ceo.children=[cfo,cto,coo]\n",
    "cto.children=[qa,dev]\n",
    "coo.children=[ops]\n",
    "\n",
    " #Traversing\n",
    "def traverse(node,level=0):\n",
    "    print(\" \"*level + node.val)\n",
    "    for child in node.children:\n",
    "        traverse(child,level+1)\n",
    "\n",
    "traverse(ceo)\n",
    "\n"
   ]
  },
  {
   "cell_type": "code",
   "execution_count": null,
   "id": "f5c3c57e",
   "metadata": {},
   "outputs": [],
   "source": [
    "#Inorder(LPR)\n",
    "#Preorder(PLR)\n",
    "#Postorder(LRP)"
   ]
  },
  {
   "cell_type": "code",
   "execution_count": null,
   "id": "6bbcdc48",
   "metadata": {},
   "outputs": [
    {
     "name": "stdout",
     "output_type": "stream",
     "text": [
      "                   40\n",
      "          30\n",
      "                   25\n",
      " 20\n",
      "                   18\n",
      "          10\n",
      "                   5\n"
     ]
    }
   ],
   "source": [
    "#Binary Tree\n",
    "#Node creation\n",
    "class Node():\n",
    "    def __init__(self,val):\n",
    "        self.val = val\n",
    "        self.left = None\n",
    "        self.right = None\n",
    "#Insertion\n",
    "\n",
    "def insert(root, val):\n",
    "    if root is None:\n",
    "        return Node(val)\n",
    "    if val < root.val:\n",
    "        root.left = insert(root.left, val)\n",
    "    else:\n",
    "        root.right = insert(root.right, val)\n",
    "    return  \n",
    "def print_tree(node,level=0):\n",
    "    if node is not None:\n",
    "        print_tree(node.right,level+1)\n",
    "        print(\"         \"*level,node.val)\n",
    "        print_tree(node.left,level+1)\n",
    "\n",
    "val=[20,10,30,40,25,18,5]\n",
    "root=None\n",
    "for v in val:\n",
    "    root = insert(root,v)\n",
    "print_tree(root)\n",
    "\n",
    "\n",
    "\n",
    "\n",
    "\n"
   ]
  },
  {
   "cell_type": "code",
   "execution_count": 14,
   "id": "519d0509",
   "metadata": {},
   "outputs": [
    {
     "name": "stdout",
     "output_type": "stream",
     "text": [
      "                   40\n",
      "          30\n",
      "                   25\n",
      " 20\n",
      "                   18\n",
      "          10\n",
      "                   5\n",
      "Inorder Traversal\n",
      "5 , 10 , 18 , 20 , 25 , 30 , 40 , \n",
      "\n",
      "Preorder Traversal\n",
      "20 , 10 , 5 , 18 , 30 , 25 , 40 , \n",
      "\n",
      "Postorder Traversal\n",
      "5 , 18 , 10 , 25 , 40 , 30 , 20 , \n",
      "\n"
     ]
    }
   ],
   "source": [
    "#Binary Tree\n",
    "#Node creation\n",
    "class Node():\n",
    "    def __init__(self,val):\n",
    "        self.val = val\n",
    "        self.left = None\n",
    "        self.right = None\n",
    "#Insertion\n",
    "def insert(root, val):\n",
    "    if root is None:\n",
    "        return Node(val)\n",
    "    if val < root.val:\n",
    "        root.left = insert(root.left, val)\n",
    "    else:\n",
    "        root.right = insert(root.right, val)\n",
    "    return root\n",
    "\n",
    "#Inorder Traversal(left-> root->right)\n",
    "\n",
    "def inorder(root):\n",
    "    if root:\n",
    "        inorder(root.left)\n",
    "        print(root.val,end=\" , \")\n",
    "        inorder(root.right)\n",
    "\n",
    "#preorder(root ->left ->right)\n",
    "def preorder(root):\n",
    "    if root:\n",
    "        print(root.val,end=\" , \")\n",
    "        preorder(root.left)\n",
    "        preorder(root.right)\n",
    "\n",
    "#postorder(left ->right ->root)       \n",
    "\n",
    "def postorder(root):\n",
    "    if root:\n",
    "        postorder(root.left)  \n",
    "        postorder(root.right) \n",
    "        print(root.val,end=\" , \") \n",
    "\n",
    "def print_tree(node,level=0):\n",
    "    if node is not None:\n",
    "        print_tree(node.right,level+1)\n",
    "        print(\"         \"*level,node.val)\n",
    "        print_tree(node.left,level+1)\n",
    "\n",
    "val=[20,10,30,40,25,18,5]\n",
    "root=None\n",
    "for v in val:\n",
    "    root = insert(root,v)\n",
    "print_tree(root)\n",
    "print(\"Inorder Traversal\")\n",
    "inorder(root)\n",
    "print(\"\\n\")\n",
    "print(\"Preorder Traversal\")\n",
    "preorder(root)\n",
    "print(\"\\n\")\n",
    "print(\"Postorder Traversal\")\n",
    "postorder(root)\n",
    "print(\"\\n\")\n",
    "\n",
    "\n",
    "\n",
    "\n",
    "\n",
    "\n"
   ]
  },
  {
   "cell_type": "code",
   "execution_count": 16,
   "id": "8e08861d",
   "metadata": {},
   "outputs": [
    {
     "name": "stdout",
     "output_type": "stream",
     "text": [
      "2\n"
     ]
    }
   ],
   "source": [
    "#height =max(height of left, height of right)+1\n",
    "def height(root):\n",
    "    if not root:\n",
    "        return -1\n",
    "    return 1+max(height(root.left),height(root.right))\n",
    "print(height(root))"
   ]
  },
  {
   "cell_type": "code",
   "execution_count": 17,
   "id": "7fc1f522",
   "metadata": {},
   "outputs": [
    {
     "name": "stdout",
     "output_type": "stream",
     "text": [
      "4\n"
     ]
    }
   ],
   "source": [
    "def count_ln(root):\n",
    "    if not root:\n",
    "        return 0\n",
    "    if not root.left and not root.right:\n",
    "        return 1\n",
    "    return count_ln(root.left)+count_ln(root.right)\n",
    "print(count_ln(root))"
   ]
  },
  {
   "cell_type": "code",
   "execution_count": null,
   "id": "82eb4d97",
   "metadata": {},
   "outputs": [],
   "source": [
    "def "
   ]
  }
 ],
 "metadata": {
  "kernelspec": {
   "display_name": "Python 3",
   "language": "python",
   "name": "python3"
  },
  "language_info": {
   "codemirror_mode": {
    "name": "ipython",
    "version": 3
   },
   "file_extension": ".py",
   "mimetype": "text/x-python",
   "name": "python",
   "nbconvert_exporter": "python",
   "pygments_lexer": "ipython3",
   "version": "3.13.5"
  }
 },
 "nbformat": 4,
 "nbformat_minor": 5
}

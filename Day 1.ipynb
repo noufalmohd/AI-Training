{
 "cells": [
  {
   "cell_type": "code",
   "execution_count": null,
   "id": "86947e18",
   "metadata": {},
   "outputs": [],
   "source": [
    "#DAY-01\n",
    "\n",
    "\n",
    "a=10\n"
   ]
  },
  {
   "cell_type": "code",
   "execution_count": null,
   "id": "0266a72b",
   "metadata": {},
   "outputs": [],
   "source": [
    "b=20\n"
   ]
  },
  {
   "cell_type": "code",
   "execution_count": null,
   "id": "a4193153",
   "metadata": {},
   "outputs": [],
   "source": [
    "sum=a+b"
   ]
  },
  {
   "cell_type": "code",
   "execution_count": null,
   "id": "3c584ce6",
   "metadata": {},
   "outputs": [
    {
     "name": "stdout",
     "output_type": "stream",
     "text": [
      "30\n"
     ]
    }
   ],
   "source": [
    "print(sum)\n"
   ]
  },
  {
   "cell_type": "code",
   "execution_count": null,
   "id": "c0f1cab2",
   "metadata": {},
   "outputs": [
    {
     "name": "stdout",
     "output_type": "stream",
     "text": [
      "[1, 3, 2, 3, 4, [3, 45, 6]]\n"
     ]
    }
   ],
   "source": [
    "import copy\n",
    "orginal=[1,3,2,3,4,[3,45,6,]]\n",
    "ref_copy=orginal\n",
    "print(ref_copy)"
   ]
  },
  {
   "cell_type": "code",
   "execution_count": null,
   "id": "b5f372fc",
   "metadata": {},
   "outputs": [
    {
     "name": "stdout",
     "output_type": "stream",
     "text": [
      "1\n",
      "22.0\n"
     ]
    }
   ],
   "source": [
    "a=1.5\n",
    "b=20.5\n",
    "print(int(a))\n",
    "print(a+b)"
   ]
  },
  {
   "cell_type": "code",
   "execution_count": null,
   "id": "bac299d3",
   "metadata": {},
   "outputs": [
    {
     "name": "stdout",
     "output_type": "stream",
     "text": [
      "sorry, is not available please add it\n"
     ]
    }
   ],
   "source": [
    "cart=[\"shirt\",\"jeans\",\"shoes\",\"coat\"]\n",
    "\n",
    "thing=input(\"enter the item\")\n",
    "if thing in cart:\n",
    "    print(f\" {thing}is available\")\n",
    "else:\n",
    "    print(\"sorry, is not available please add it\")"
   ]
  }
 ],
 "metadata": {
  "kernelspec": {
   "display_name": "Python 3",
   "language": "python",
   "name": "python3"
  },
  "language_info": {
   "name": "python",
   "version": "3.13.5"
  }
 },
 "nbformat": 4,
 "nbformat_minor": 5
}

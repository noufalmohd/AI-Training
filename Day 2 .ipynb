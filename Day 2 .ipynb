{
 "cells": [
  {
   "cell_type": "code",
   "execution_count": null,
   "id": "ccc056f2",
   "metadata": {},
   "outputs": [
    {
     "name": "stdout",
     "output_type": "stream",
     "text": [
      "username or password is incorrect,only 3 attempts are there!\n",
      "username or password is incorrect,only 2 attempts are there!\n",
      "username or password is incorrect,only 1 attempts are there!\n",
      "you are trying too many times,you are blocked\n"
     ]
    }
   ],
   "source": [
    "\n",
    "#DAY-02\n",
    "\n",
    "\n",
    "\n",
    "user_name=\"AbCd\"\n",
    "passw=\"123\"\n",
    "attempts=0\n",
    "while(attempts<3):\n",
    "    username=input(\"username:\")\n",
    "    password=input(\"password:\")\n",
    "    if(username==user_name and password==passw):\n",
    "        print(\"Access Granted\")\n",
    "        break\n",
    "    else:\n",
    "        print(f\"username or password is incorrect,only {3-attempts} attempts are there!\")\n",
    "        attempts+=1\n",
    "else:\n",
    "     print(\"you are trying too many times,you are blocked\")\n",
    "\n"
   ]
  },
  {
   "cell_type": "code",
   "execution_count": 2,
   "id": "5565a4ec",
   "metadata": {},
   "outputs": [
    {
     "name": "stdout",
     "output_type": "stream",
     "text": [
      "pin is wrong please try again there only2attempt is left!!\n",
      "pin is wrong please try again there only1attempt is left!!\n",
      "again its wrong so try again later\n"
     ]
    }
   ],
   "source": [
    "#enter the bank balance\n",
    "#enter the withdrawn amount\n",
    "#define pin\n",
    "#get pin from user\n",
    "\n",
    "\n",
    "bank_balance= int(input(\"enter the balance:\"))\n",
    "withdrawn_amnt=int(input(\"enter the withdrawn amount:\"))\n",
    "\n",
    "pin_num=7930\n",
    "attempt=0\n",
    "\n",
    "while(attempt<2):\n",
    "    pin= int(input(\"enter your pin:\"))\n",
    "    if(pin==pin_num):\n",
    "        print(\"withrawn successful\")\n",
    "        curr_balance=bank_balance-withdrawn_amnt\n",
    "        print(\"your current bank balance :\",curr_balance)\n",
    "        break\n",
    "    else:\n",
    "        print(f\"pin is wrong please try again there only{2-attempt}attempt is left!!\")\n",
    "        attempt+=1\n",
    "else:\n",
    "    print(\"again its wrong so try again later\")"
   ]
  },
  {
   "cell_type": "code",
   "execution_count": null,
   "id": "7b9ddc51",
   "metadata": {},
   "outputs": [
    {
     "name": "stdout",
     "output_type": "stream",
     "text": [
      "global\n"
     ]
    }
   ],
   "source": [
    "x=\"global\"\n",
    "def outer():\n",
    "    #x=\"enclosing\"\n",
    "    def inner():\n",
    "       # x=\"local\"\n",
    "        print(x)\n",
    "    inner()\n",
    "outer()"
   ]
  },
  {
   "cell_type": "code",
   "execution_count": null,
   "id": "c2418765",
   "metadata": {},
   "outputs": [
    {
     "name": "stdout",
     "output_type": "stream",
     "text": [
      "hello my name is arunroy.i am 50years old\n"
     ]
    }
   ],
   "source": [
    "#function -by using a def keyword\n",
    "\n",
    "def myfunc(f_name,l_name,age):\n",
    "    print(f\"hello my name is {f_name}{l_name}.i am {age}years old\")\n",
    "    \n",
    "myfunc(\"arun\",\"roy\",50)               #like place holder"
   ]
  },
  {
   "cell_type": "code",
   "execution_count": null,
   "id": "55463575",
   "metadata": {},
   "outputs": [
    {
     "name": "stdout",
     "output_type": "stream",
     "text": [
      "the child name is den\n"
     ]
    }
   ],
   "source": [
    "#parameters-  when we pass any variable or parameter inside a function\n",
    "\n",
    "\n",
    "#arguments- we use this when we call the function\n",
    "\n",
    "#------------------------------------------------------------------------------------\n",
    "\n",
    "#keyword arguments:- we want to give a variable name \n",
    "\n",
    "\n",
    "def my_fn(child1,child2,child3):\n",
    "    print(f\"the child name is {child1}\")\n",
    "my_fn(child1=\"den\",child2=\"joy\",child3=\"jimmy\")\n",
    "\n",
    "#----------------------------------------------------------------------------------\n"
   ]
  },
  {
   "cell_type": "code",
   "execution_count": null,
   "id": "5c80101e",
   "metadata": {},
   "outputs": [
    {
     "name": "stdout",
     "output_type": "stream",
     "text": [
      "my child name is jim\n"
     ]
    }
   ],
   "source": [
    "\n",
    "#arbiterary arguments-  we dont know how many arguments\n",
    "#we passed here-\"*args\"(we can pass multiple arguments)\n",
    "\n",
    "def my_f(*childs):\n",
    "    print(f\"my child name is {childs[4]}\")\n",
    "my_f(\"richu\",\"jo\",\"mog\",\"den\",\"jim\")\n"
   ]
  },
  {
   "cell_type": "code",
   "execution_count": null,
   "id": "a4528f13",
   "metadata": {},
   "outputs": [
    {
     "name": "stdout",
     "output_type": "stream",
     "text": [
      "the fruit feature is circle\n"
     ]
    }
   ],
   "source": [
    "#arbitarary keyword argument-\"**kwargs\"--we dont know how many keywords we want to use in that occation we use this\n",
    "\n",
    "def my_f(**fruits):\n",
    "    print(f\"the fruit feature is {fruits[\"shape\"]}\")\n",
    "my_f(fruitname=\"apple\",color=\"red\",shape=\"circle\")\n"
   ]
  },
  {
   "cell_type": "code",
   "execution_count": null,
   "id": "9e445519",
   "metadata": {},
   "outputs": [
    {
     "name": "stdout",
     "output_type": "stream",
     "text": [
      "my country is india\n",
      "my country is usa\n",
      "my country is china\n"
     ]
    }
   ],
   "source": [
    "#default parameter- is a value that is automatically used by a function if no value is given for that parameter when the function is called.\n",
    "\n",
    "def my_fun(country=\"india\"):\n",
    "    print(f\"my country is {country}\")\n",
    "my_fun()\n",
    "my_fun(\"usa\")\n",
    "my_fun(\"china\")"
   ]
  },
  {
   "cell_type": "code",
   "execution_count": null,
   "id": "bef45637",
   "metadata": {},
   "outputs": [
    {
     "data": {
      "text/plain": [
       "165"
      ]
     },
     "metadata": {},
     "output_type": "display_data"
    }
   ],
   "source": [
    "def my_fn(x):\n",
    "    return 5*x\n",
    "my_fn(5)\n",
    "my_fn(9)\n",
    "my_fn(50)\n",
    "my_fn(33)\n",
    "\n",
    "\n",
    "#RETURN\n",
    "#it go with all the function call and display what you want\n",
    "# and it shows the last call answer only (shortcut) \n",
    "#it performes in a single line\n",
    "\n"
   ]
  },
  {
   "cell_type": "code",
   "execution_count": null,
   "id": "3073a9de",
   "metadata": {},
   "outputs": [],
   "source": [
    "#LEGB\n",
    "#L - LOCAL\n",
    "#E - ENCLOSING\n",
    "#G - GLOBAL\n",
    "#B - BUILD IN FUNCTION"
   ]
  },
  {
   "cell_type": "code",
   "execution_count": null,
   "id": "3ea9c617",
   "metadata": {},
   "outputs": [
    {
     "name": "stdout",
     "output_type": "stream",
     "text": [
      "25\n",
      "45\n",
      "250\n",
      "165\n"
     ]
    }
   ],
   "source": [
    "def my_fn(x):\n",
    "    print(5*x) \n",
    "my_fn(5)\n",
    "my_fn(9)\n",
    "my_fn(50)\n",
    "my_fn(33)\n",
    "\n",
    "#PRINT\n",
    "\n",
    "#it go with all the func call and display all the operation\n",
    "#it show all the func calls \n"
   ]
  },
  {
   "cell_type": "code",
   "execution_count": null,
   "id": "46d17524",
   "metadata": {},
   "outputs": [
    {
     "name": "stdout",
     "output_type": "stream",
     "text": [
      "2\n",
      "3\n",
      "5\n",
      "7\n",
      "11\n",
      "13\n",
      "17\n",
      "19\n",
      "23\n",
      "29\n"
     ]
    }
   ],
   "source": [
    "#prime numbers= 2,3,5,7,11,13.............\n",
    "\n",
    "def primenumber(n):\n",
    "    if(n<=1):\n",
    "        return False\n",
    "    for i in range(2,n):\n",
    "        if(n%i==0):\n",
    "            return False\n",
    "    return True\n",
    "for i in range(31):\n",
    "    if(primenumber(i)):\n",
    "        print(i)\n"
   ]
  },
  {
   "cell_type": "code",
   "execution_count": null,
   "id": "da0d8678",
   "metadata": {},
   "outputs": [
    {
     "data": {
      "text/plain": [
       "24"
      ]
     },
     "metadata": {},
     "output_type": "display_data"
    }
   ],
   "source": [
    "#factorial of a number\n",
    "\n",
    "\n",
    "def fact(n):\n",
    "    result=1\n",
    "    for i in range(1,n+1):\n",
    "        result*=i\n",
    "    return result\n",
    "fact(4)\n",
    "\n"
   ]
  },
  {
   "cell_type": "code",
   "execution_count": null,
   "id": "46a3e8b8",
   "metadata": {},
   "outputs": [
    {
     "name": "stdout",
     "output_type": "stream",
     "text": [
      "tankyou for your feed back\n"
     ]
    }
   ],
   "source": [
    "#use while loop\n",
    "#get the feed back from user\n",
    "#if i give stop.it to print like \"thankyou\"\n",
    "\n",
    "\n",
    "while(\"true\"):\n",
    "    feed_back=input(\"enter your feedback:\")\n",
    "    if(feed_back==\"stop\"):\n",
    "        print(\"tankyou for your feed back\")\n",
    "        break"
   ]
  },
  {
   "cell_type": "code",
   "execution_count": null,
   "id": "38218f58",
   "metadata": {},
   "outputs": [
    {
     "name": "stdout",
     "output_type": "stream",
     "text": [
      "its palindrome\n",
      "madam\n"
     ]
    }
   ],
   "source": [
    "#palindrome cheking\n",
    "\n",
    "x=input(\"enter the word:\")\n",
    "x_rev=x[::-1]\n",
    "if(x_rev==x):\n",
    "    print(\"its palindrome\")\n",
    "    print(x)\n",
    "else:\n",
    "    print(\"not palindrome\")"
   ]
  }
 ],
 "metadata": {
  "kernelspec": {
   "display_name": "Python 3",
   "language": "python",
   "name": "python3"
  },
  "language_info": {
   "codemirror_mode": {
    "name": "ipython",
    "version": 3
   },
   "file_extension": ".py",
   "mimetype": "text/x-python",
   "name": "python",
   "nbconvert_exporter": "python",
   "pygments_lexer": "ipython3",
   "version": "3.13.5"
  }
 },
 "nbformat": 4,
 "nbformat_minor": 5
}

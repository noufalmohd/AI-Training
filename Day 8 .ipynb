{
 "cells": [
  {
   "cell_type": "code",
   "execution_count": null,
   "id": "6bd826a8",
   "metadata": {},
   "outputs": [
    {
     "name": "stdout",
     "output_type": "stream",
     "text": [
      "to see the sunset\n",
      "lets have a vibe\n"
     ]
    }
   ],
   "source": [
    "# Day- 08\n",
    "\n",
    "# oops concept (object orianted programming system)\n",
    "# object- all real world entities\n",
    "# class-collection of objects\n",
    "\n",
    "# goa trip\n",
    "# whos going\n",
    "# how much money we need\n",
    "# what about the food\n",
    "# were we need to stay\n",
    "# who will book the tickets\n",
    "\n",
    "\n",
    "class GoaTrip():\n",
    "    def beach(self):    #self - is a parameter we can give any parameter\n",
    "        print(\"to see the sunset\")\n",
    "    def party(abc):\n",
    "        print(\"lets have a vibe\")\n",
    "raju=GoaTrip()\n",
    "kevin=GoaTrip()\n",
    "raju.beach()\n",
    "kevin.party()\n"
   ]
  },
  {
   "cell_type": "code",
   "execution_count": null,
   "id": "d01857d0",
   "metadata": {},
   "outputs": [
    {
     "name": "stdout",
     "output_type": "stream",
     "text": [
      "kevinfood item added to cart\n",
      "kevinpayment successfull by gpay\n",
      "kevinfood item added to cart\n",
      "kevinpayment successfull by gpay\n"
     ]
    }
   ],
   "source": [
    "# food delivery\n",
    "# select food item\n",
    "# payment method\n",
    "# who want to order\n",
    "\n",
    "class food_delivery():\n",
    "    name=\"kevin\"\n",
    "    def select_food_item(abc):\n",
    "        print(f\"{abc.name}food item added to cart\")\n",
    "    def payment(abc):\n",
    "        print(f\"{abc.name}payment successfull by gpay\")\n",
    "godson=food_delivery()\n",
    "abhi=food_delivery()\n",
    "godson.select_food_item()\n",
    "godson.payment()\n",
    "abhi.select_food_item()\n",
    "abhi.payment()\n"
   ]
  },
  {
   "cell_type": "code",
   "execution_count": null,
   "id": "85308090",
   "metadata": {},
   "outputs": [
    {
     "name": "stdout",
     "output_type": "stream",
     "text": [
      "raju to see the sunset and the budget is 50000\n",
      "kevin lets have a vibe and the budget is 3000000\n"
     ]
    }
   ],
   "source": [
    "#  another method\n",
    "# init method\n",
    "\n",
    "\n",
    "class GoaTrip():\n",
    "    def __init__(self,name,budget):\n",
    "        self.name=name\n",
    "        self.budget=budget\n",
    "    def beach(self):    #self - is a parameter we can give any parameter\n",
    "        print(f\"{self.name} to see the sunset and the budget is {self.budget}\")\n",
    "    def party(self):\n",
    "        print(f\"{self.name} lets have a vibe and the budget is {self.budget}\")\n",
    "raju=GoaTrip(\"raju\",50000)\n",
    "kevin=GoaTrip(\"kevin\",3000000)\n",
    "raju.beach()\n",
    "kevin.party()\n"
   ]
  },
  {
   "cell_type": "code",
   "execution_count": null,
   "id": "8a6a3ed9",
   "metadata": {},
   "outputs": [
    {
     "name": "stdout",
     "output_type": "stream",
     "text": [
      "the deposite amount is 50000 \n",
      "the remaining amount 60000\n",
      "the balance is 110000\n"
     ]
    }
   ],
   "source": [
    "# bank account\n",
    "# balance amount\n",
    "# withdrawal amount\n",
    "# deposite amount\n",
    "\n",
    "\n",
    "# amount \n",
    "# if you kept the amount it show what ever the balance amount\n",
    "\n",
    "\n",
    "class bank():\n",
    "    def __init__(self,deposite,balance,withdrawal):\n",
    "        self.withdrawal=withdrawal\n",
    "        self.balance=balance\n",
    "        self.deposite=deposite\n",
    "\n",
    "    def deposite_amount(self):\n",
    "        print(f\"the deposite amount is {self.deposite} \")\n",
    "    \n",
    "    def balance_amount(self):\n",
    "        self.balance+=self.deposite\n",
    "        print(f\"the balance is {self.balance}\")\n",
    "\n",
    "    def withdrawal_amount(self):\n",
    "        if(self.withdrawal>self.balance):\n",
    "           print(f\"insufficiant bank balance\")\n",
    "        else:\n",
    "            self.balance-=self.withdrawal\n",
    "            print(f\"the remaining amount {self.balance}\")\n",
    "kiran= bank(50000,100000,40000)\n",
    "\n",
    "kiran.deposite_amount()\n",
    "kiran.withdrawal_amount()\n",
    "kiran.balance_amount()\n",
    "\n",
    "\n",
    "\n"
   ]
  }
 ],
 "metadata": {
  "kernelspec": {
   "display_name": "Python 3",
   "language": "python",
   "name": "python3"
  },
  "language_info": {
   "name": "python",
   "version": "3.13.5"
  }
 },
 "nbformat": 4,
 "nbformat_minor": 5
}

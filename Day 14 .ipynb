{
 "cells": [
  {
   "cell_type": "code",
   "execution_count": null,
   "id": "4dc1a2f1",
   "metadata": {},
   "outputs": [],
   "source": [
    "# Day 14\n",
    "\n",
    "# Probability"
   ]
  },
  {
   "cell_type": "code",
   "execution_count": null,
   "id": "44c61c51",
   "metadata": {},
   "outputs": [
    {
     "name": "stdout",
     "output_type": "stream",
     "text": [
      "['apple', 'apple', 'apple', 'orange', 'orange', 'banana']\n",
      "-------------------------------------------------------------------------------------------------------------------------------------------------------\n",
      "0.5\n",
      "-------------------------------------------------------------------------------------------------------------------------------------------------------\n",
      "0.5\n",
      "-------------------------------------------------------------------------------------------------------------------------------------------------------\n",
      "0.6666666666666666\n",
      "0.6666666666666667\n",
      "-------------------------------------------------------------------------------------------------------------------------------------------------------\n"
     ]
    }
   ],
   "source": [
    "basket = ['apple']* 3 + ['orange']* 2 + ['banana']* 1\n",
    "total_val = len(basket)\n",
    "print(basket)\n",
    "\n",
    "print(\"-------------------------------------------------------------------------------------------------------------------------------------------------------\")\n",
    "\n",
    "t_apple = basket.count('apple')/total_val\n",
    "print(t_apple)\n",
    "\n",
    "print(\"-------------------------------------------------------------------------------------------------------------------------------------------------------\")\n",
    "\n",
    "orange_or_banana = (basket.count('orange') + basket.count('banana'))/total_val\n",
    "print(orange_or_banana)\n",
    "\n",
    "print(\"-------------------------------------------------------------------------------------------------------------------------------------------------------\")\n",
    "\n",
    "apple_or_banana = (basket.count('apple') + basket.count('banana'))/total_val\n",
    "print(apple_or_banana)\n",
    "\n",
    "not_orange = 1 - basket.count('orange')/total_val\n",
    "print(not_orange)\n",
    "\n",
    "print(\"-------------------------------------------------------------------------------------------------------------------------------------------------------\")\n",
    "\n"
   ]
  },
  {
   "cell_type": "code",
   "execution_count": null,
   "id": "ec82af4b",
   "metadata": {},
   "outputs": [
    {
     "name": "stdout",
     "output_type": "stream",
     "text": [
      "0.25\n"
     ]
    }
   ],
   "source": [
    "# HH  TT  TH   HT\n",
    "\n",
    "coin = [\"HH\", \"TT\", \"TH\", \"HT\"]\n",
    "count = 0\n",
    "for i in coin:\n",
    "    if \"H\"  in i:\n",
    "        count += 1\n",
    "else:\n",
    "    print(count/len(coin))"
   ]
  },
  {
   "cell_type": "code",
   "execution_count": null,
   "id": "4ad11f73",
   "metadata": {},
   "outputs": [
    {
     "name": "stdout",
     "output_type": "stream",
     "text": [
      "Probability of taking umberla on rainy day:  0.8333333333333334\n",
      "Probability of taking umberla on sunny day:  0.25\n"
     ]
    }
   ],
   "source": [
    "# Conditional probability - it is the probability of an event occuring given that another event has already occured.\n",
    "\n",
    "# Bayes theorem - to update the probability of an event based on new information.\n",
    "# P(A|B) = P(A intersection B)/P(B)\n",
    "\n",
    "# three steps to solve the problem :\n",
    "# frequency Table - to count the frequency of each event\n",
    "# Likelihood Table - to calculate the probability of each event\n",
    "# Formula - Bayes Formula\n",
    "# P(A|B) = P(A intersection B)/P(B)\n",
    "\n",
    "# 100 days \n",
    "# 60 days rainy   50 person take umberla\n",
    "# 40 days sunny   10 person take umberla\n",
    "\n",
    "\n",
    "days = 100\n",
    "rainy_days = 60\n",
    "sunny_days = 40\n",
    "rainy_intersection_umberla = 50 #here we ta A as Rainy and B as umberla\n",
    "sunny_intersection_umberla = 10 #here we ta A as Sunny and B as umberla\n",
    "\n",
    "prob_rainy_umberla = rainy_intersection_umberla / rainy_days    #here we take A as rainy and B as umberla p(prob_rainy_umberla) = rainy_intersection_umberla / rainy_days\n",
    "prob_sunny_umberla = sunny_intersection_umberla / sunny_days    #here we take A as sunny and B as umberla p(prob_sunny_umberla) = sunny_intersection_umberla / sunny_days\n",
    "\n",
    "print(\"Probability of taking umberla on rainy day: \", prob_rainy_umberla)\n",
    "print(\"Probability of taking umberla on sunny day: \", prob_sunny_umberla)\n"
   ]
  },
  {
   "cell_type": "code",
   "execution_count": 1,
   "id": "b6cbdd67",
   "metadata": {},
   "outputs": [
    {
     "name": "stdout",
     "output_type": "stream",
     "text": [
      "0.8\n",
      "0.6\n"
     ]
    }
   ],
   "source": [
    "# 100 students\n",
    "# 80 attended monday class\n",
    "# From that 60 only 60 attended tuesday class\n",
    "\n",
    "students = 100\n",
    "monday_attendance = 80\n",
    "tuesday_attendance = 60\n",
    "prob_monday_class = monday_attendance / students  # P(Monday)\n",
    "prob_tuesday_intersection_monday = tuesday_attendance / students\n",
    "\n",
    "print(prob_monday_class)\n",
    "print(prob_tuesday_intersection_monday)\n"
   ]
  },
  {
   "cell_type": "code",
   "execution_count": null,
   "id": "1cf6ccd8",
   "metadata": {},
   "outputs": [
    {
     "name": "stdout",
     "output_type": "stream",
     "text": [
      "Probability of spam mails:  0.4\n",
      "Probability of not spam mails:  0.6\n"
     ]
    }
   ],
   "source": [
    "# 100 mails\n",
    "# 40 mails are spam\n",
    "# 60 mails are not spam\n",
    "\n",
    "mails = 100\n",
    "spam_mails = 40\n",
    "not_spam_mails = 60\n",
    "\n",
    "prob_spam_mails = spam_mails / mails  \n",
    "prob_not_spam_mails = not_spam_mails / mails  \n",
    "\n",
    "print(\"Probability of spam mails: \", prob_spam_mails)\n",
    "print(\"Probability of not spam mails: \", prob_not_spam_mails)"
   ]
  },
  {
   "cell_type": "code",
   "execution_count": 5,
   "id": "62bc4ab0",
   "metadata": {},
   "outputs": [
    {
     "name": "stdout",
     "output_type": "stream",
     "text": [
      "0.75\n"
     ]
    }
   ],
   "source": [
    "#frequency value\n",
    "p_spam = 40\n",
    "p_not_spam = 60\n",
    "\n",
    "#likelihood (\"win\" word found in both spam and not spam)\n",
    "p_win_given_spam = 30/40\n",
    "p_win_given_not_spam = 10/60\n",
    "\n",
    "#total probability of appearing the word win\n",
    "p_win = (p_win_given_spam * p_spam) + (p_win_given_not_spam * p_not_spam)\n",
    "\n",
    "#bayes formula\n",
    "p_spam_given_win = (p_win_given_spam * p_spam) / p_win\n",
    "\n",
    "print(p_spam_given_win)\n"
   ]
  },
  {
   "cell_type": "code",
   "execution_count": 4,
   "id": "a7535faa",
   "metadata": {},
   "outputs": [
    {
     "name": "stdout",
     "output_type": "stream",
     "text": [
      "Probability of rain given cloudy:  0.4000000000000001\n"
     ]
    }
   ],
   "source": [
    "# rain = 0.2 (20% chance of rain)\n",
    "# NO rain = 1-rain = 0.8 (80% chance of no rain)\n",
    "# p(Cloudy in Rain) = 0.8 (60% chance of cloudy from rain 0.2)\n",
    "# p(Cloudy in No Rain) = 0.3 (30% chance of cloudy from no rain 0.8)\n",
    "# p(Rain | cloudy) = ?  Bayes Theorem\n",
    "\n",
    "rain = 0.2\n",
    "no_rain = 1 - rain \n",
    "p_cloudy_in_rain = 0.8  # P(Cloudy | Rain)\n",
    "p_cloudy_in_no_rain = 0.3  # P(Cloudy | No Rain)\n",
    "\n",
    "p_cloudy = (p_cloudy_in_rain * rain) + (p_cloudy_in_no_rain * no_rain)\n",
    "\n",
    "p_rain_given_cloudy = (p_cloudy_in_rain * rain) / p_cloudy\n",
    "\n",
    "print(\"Probability of rain given cloudy: \", p_rain_given_cloudy)\n",
    "\n",
    "\n"
   ]
  },
  {
   "cell_type": "code",
   "execution_count": 8,
   "id": "ca87972e",
   "metadata": {},
   "outputs": [
    {
     "name": "stdout",
     "output_type": "stream",
     "text": [
      "160\n"
     ]
    }
   ],
   "source": [
    "import random\n",
    "\n",
    "count = 0\n",
    "n = 1000\n",
    "\n",
    "for i in range(n):\n",
    "    roll_dice = random.randint(1,6)\n",
    "    if roll_dice == 6:\n",
    "        count += 1\n",
    "print(count)"
   ]
  },
  {
   "cell_type": "code",
   "execution_count": null,
   "id": "fab874e4",
   "metadata": {},
   "outputs": [],
   "source": []
  }
 ],
 "metadata": {
  "kernelspec": {
   "display_name": "Python 3",
   "language": "python",
   "name": "python3"
  },
  "language_info": {
   "codemirror_mode": {
    "name": "ipython",
    "version": 3
   },
   "file_extension": ".py",
   "mimetype": "text/x-python",
   "name": "python",
   "nbconvert_exporter": "python",
   "pygments_lexer": "ipython3",
   "version": "3.13.5"
  }
 },
 "nbformat": 4,
 "nbformat_minor": 5
}
